{
 "cells": [
  {
   "cell_type": "markdown",
   "id": "eaa5a183-8169-4019-89f7-2f52d0320388",
   "metadata": {},
   "source": [
    "## Part of speech (POS) Tagger\n",
    "\n",
    "This notebook tags selected words / phrases in the text based on the part of speech (e.g., noun, verb, adjective etc.) they belong to."
   ]
  },
  {
   "cell_type": "markdown",
   "id": "fe8ab459-5ad6-4cc0-bb65-d5a1a96b88e0",
   "metadata": {},
   "source": [
    "#### 1. Import text files to tag"
   ]
  },
  {
   "cell_type": "code",
   "execution_count": 196,
   "id": "1d31af78-0775-4b30-8b47-50a4b507fa23",
   "metadata": {},
   "outputs": [],
   "source": [
    "with open(\"datasets/clean-data/ms-aladin-witness1.txt\", \"r\") as infile:\n",
    "    witness1text = infile.read()\n",
    "    \n",
    "with open(\"datasets/clean-data/ms-aladin-witness2.txt\", \"r\") as infile:\n",
    "    witness2text = infile.read()"
   ]
  },
  {
   "cell_type": "markdown",
   "id": "ccf1d1bb-616d-4353-987b-2cc6065c5e85",
   "metadata": {},
   "source": [
    "#### 2. Do POS tagging"
   ]
  },
  {
   "cell_type": "code",
   "execution_count": 197,
   "id": "07b7460b-0108-4d74-ad62-61a372cbac65",
   "metadata": {
    "scrolled": true,
    "tags": []
   },
   "outputs": [
    {
     "name": "stderr",
     "output_type": "stream",
     "text": [
      "/var/folders/yj/lbnnfnns43q55hrw_6bf0q780000gn/T/ipykernel_5442/804822877.py:6: DeprecationWarning: Importing display from IPython.core.display is deprecated since IPython 7.14, please import from IPython display\n",
      "  from IPython.core.display import display, HTML\n"
     ]
    }
   ],
   "source": [
    "import spacy\n",
    "from spacy import displacy\n",
    "from spacy_transformers import Transformer, TransformerModel\n",
    "from spacy_transformers.annotation_setters import null_annotation_setter\n",
    "from spacy_transformers.span_getters import get_doc_spans\n",
    "from IPython.core.display import display, HTML\n",
    "from bs4 import BeautifulSoup\n",
    "from bs4.element import Tag\n",
    "import re\n",
    "import json\n",
    "\n",
    "with open(\"datasets/clean-data/ms-aladin-simplified.xml\", \"r\") as infile:\n",
    "    soup = BeautifulSoup(infile, features=\"lxml-xml\")\n",
    "    \n",
    "tags = soup.find_all()\n",
    "tags_minus_irr = []\n",
    "for tag in tags:\n",
    "    if (tag.name in ['add', 'del', 'subst']):\n",
    "        tags_minus_irr.append(tag)\n",
    "                \n",
    "nlp = spacy.load(\"nl_core_news_sm\")\n",
    "\n",
    "doc_w1 = nlp(witness1text)\n",
    "doc_w2 = nlp(witness2text)"
   ]
  },
  {
   "cell_type": "markdown",
   "id": "d082acdc-9fc4-404b-bf4c-f65fc7032cc1",
   "metadata": {},
   "source": [
    "#### 3. Display the result"
   ]
  },
  {
   "cell_type": "code",
   "execution_count": 198,
   "id": "ca8a22fc-59ba-47d6-90a0-f9224ac41316",
   "metadata": {},
   "outputs": [],
   "source": [
    "# options = {\"compact\": True, \"bg\": \"#ffffff\",\n",
    "#            \"color\": \"black\", \"font\": \"Source Sans Pro\"}\n",
    "# displacy.render(doc_w1.sents, style=\"dep\", options=options)"
   ]
  },
  {
   "cell_type": "code",
   "execution_count": 199,
   "id": "2b52af73-f9bb-498d-84fb-96b42bc87b05",
   "metadata": {},
   "outputs": [],
   "source": [
    "# options = {\"compact\": True, \"bg\": \"#ffffff\",\n",
    "#            \"color\": \"black\", \"font\": \"Source Sans Pro\"}\n",
    "# displacy.render(doc_w2.sents, style=\"dep\", options=options)"
   ]
  },
  {
   "cell_type": "code",
   "execution_count": 200,
   "id": "ed35f698-8299-4a7c-af50-9a2c2005647b",
   "metadata": {},
   "outputs": [],
   "source": [
    "def is_in_edit(word):\n",
    "    global tags_minus_irr\n",
    "    # print(\"word: \", word)\n",
    "    # print()\n",
    "    for tag in tags_minus_irr:\n",
    "\n",
    "        items = tag.text.split()\n",
    "        # print(\"items: \", items)\n",
    "        # print()\n",
    "    \n",
    "        if word in items:\n",
    "            return True\n",
    "        \n",
    "    return False"
   ]
  },
  {
   "cell_type": "code",
   "execution_count": 201,
   "id": "b8348917-4564-408f-95f2-f26c4138ad8d",
   "metadata": {},
   "outputs": [],
   "source": [
    "def transform_to_html(nlp_doc, color=\"#DFF9FF\"):\n",
    "    html = \"<!DOCTYPE html>\\n<html>\"\n",
    "    html += '<body style=\"background-color:' + color + '\";>'\n",
    "    for sentence in nlp_doc.sents:\n",
    "        html += \"<p>\"\n",
    "        for token in sentence:\n",
    "            if (token.pos_ == \"VERB\" and is_in_edit(token.text)):\n",
    "                html += '<span style=\"background-color:#33FFB5\">' + token.text + '</span> '\n",
    "            elif (token.pos_ == \"NOUN\" and is_in_edit(token.text)):\n",
    "                html += '<span style=\"background-color:#FFD433\">' + token.text + '</span> '\n",
    "            elif (token.pos_ == \"ADJ\" and is_in_edit(token.text)):\n",
    "                html += '<span style=\"background-color:#B495FF\">' + token.text + '</span> '\n",
    "            else:\n",
    "                if is_in_edit(token.text):\n",
    "                    # html += '<span style=\"background-color:#FFA8A8\">' + token.text + '</span> '\n",
    "                    html += token.text + \" \"\n",
    "                else:\n",
    "                    html += token.text + \" \"\n",
    "    html += \"</p>\"\n",
    "    html += '</body>'\n",
    "    html += \"</html>\"\n",
    "    return html\n",
    "        \n",
    "\n",
    "html_w1 = transform_to_html(doc_w1)\n",
    "html_w2 = transform_to_html(doc_w2, color=\"E5FFEE\")"
   ]
  },
  {
   "cell_type": "code",
   "execution_count": 202,
   "id": "60f101cc-9d3d-4690-808d-703ba08b005f",
   "metadata": {},
   "outputs": [],
   "source": [
    "with open(\"datasets/clean-data/ms-aladin-witness1.html\", \"w\") as outfile:\n",
    "    outfile.write(html_w1)\n",
    "    \n",
    "with open(\"datasets/clean-data/ms-aladin-witness2.html\", \"w\") as outfile:\n",
    "    outfile.write(html_w2)"
   ]
  },
  {
   "cell_type": "code",
   "execution_count": 203,
   "id": "c41722bc-2500-4675-964e-eb49e388bfe2",
   "metadata": {},
   "outputs": [],
   "source": [
    "# display(HTML(html_w1))"
   ]
  },
  {
   "cell_type": "code",
   "execution_count": 204,
   "id": "f19124ad-1727-4c76-b155-48581ef329e0",
   "metadata": {},
   "outputs": [],
   "source": [
    "# display(HTML(html_w2))"
   ]
  }
 ],
 "metadata": {
  "kernelspec": {
   "display_name": "Python 3 (ipykernel)",
   "language": "python",
   "name": "python3"
  },
  "language_info": {
   "codemirror_mode": {
    "name": "ipython",
    "version": 3
   },
   "file_extension": ".py",
   "mimetype": "text/x-python",
   "name": "python",
   "nbconvert_exporter": "python",
   "pygments_lexer": "ipython3",
   "version": "3.8.3"
  }
 },
 "nbformat": 4,
 "nbformat_minor": 5
}
